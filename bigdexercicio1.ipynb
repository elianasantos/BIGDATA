{
  "nbformat": 4,
  "nbformat_minor": 0,
  "metadata": {
    "colab": {
      "provenance": [],
      "authorship_tag": "ABX9TyOGsTy4SzvRrQq/nWacJOPj",
      "include_colab_link": true
    },
    "kernelspec": {
      "name": "python3",
      "display_name": "Python 3"
    },
    "language_info": {
      "name": "python"
    }
  },
  "cells": [
    {
      "cell_type": "markdown",
      "metadata": {
        "id": "view-in-github",
        "colab_type": "text"
      },
      "source": [
        "<a href=\"https://colab.research.google.com/github/elianasantos/BIGDATA/blob/main/bigdexercicio1.ipynb\" target=\"_parent\"><img src=\"https://colab.research.google.com/assets/colab-badge.svg\" alt=\"Open In Colab\"/></a>"
      ]
    },
    {
      "cell_type": "code",
      "execution_count": null,
      "metadata": {
        "id": "qatESK5_eKRM"
      },
      "outputs": [],
      "source": []
    },
    {
      "cell_type": "code",
      "source": [
        "import requests\n",
        "\n",
        "url = \"https://servicodados.ibge.gov.br/api/v1/localidades/estados\"\n",
        "resposta = requests.get(url)\n",
        "dados = resposta.json()\n",
        "\n",
        "for estado in dados:\n",
        "    print(estado[\"nome\"], \"-\", estado[\"sigla\"])"
      ],
      "metadata": {
        "colab": {
          "base_uri": "https://localhost:8080/"
        },
        "id": "f9yA6s3_ePT_",
        "outputId": "b5b63527-a3e9-41c3-81f2-ab091240f98c"
      },
      "execution_count": null,
      "outputs": [
        {
          "output_type": "stream",
          "name": "stdout",
          "text": [
            "Rondônia - RO\n",
            "Acre - AC\n",
            "Amazonas - AM\n",
            "Roraima - RR\n",
            "Pará - PA\n",
            "Amapá - AP\n",
            "Tocantins - TO\n",
            "Maranhão - MA\n",
            "Piauí - PI\n",
            "Ceará - CE\n",
            "Rio Grande do Norte - RN\n",
            "Paraíba - PB\n",
            "Pernambuco - PE\n",
            "Alagoas - AL\n",
            "Sergipe - SE\n",
            "Bahia - BA\n",
            "Minas Gerais - MG\n",
            "Espírito Santo - ES\n",
            "Rio de Janeiro - RJ\n",
            "São Paulo - SP\n",
            "Paraná - PR\n",
            "Santa Catarina - SC\n",
            "Rio Grande do Sul - RS\n",
            "Mato Grosso do Sul - MS\n",
            "Mato Grosso - MT\n",
            "Goiás - GO\n",
            "Distrito Federal - DF\n"
          ]
        }
      ]
    }
  ]
}